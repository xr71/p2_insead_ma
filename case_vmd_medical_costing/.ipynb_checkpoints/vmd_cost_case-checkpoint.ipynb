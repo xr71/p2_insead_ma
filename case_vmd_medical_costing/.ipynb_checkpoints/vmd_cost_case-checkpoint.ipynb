{
 "cells": [
  {
   "cell_type": "markdown",
   "metadata": {},
   "source": [
    "# Medical Imaging Cost Accounting"
   ]
  },
  {
   "cell_type": "code",
   "execution_count": 1,
   "metadata": {},
   "outputs": [],
   "source": [
    "import math\n",
    "import statistics\n",
    "import pandas as pd\n",
    "import numpy as np"
   ]
  },
  {
   "cell_type": "code",
   "execution_count": 18,
   "metadata": {},
   "outputs": [],
   "source": [
    "from pprint import pprint"
   ]
  },
  {
   "cell_type": "markdown",
   "metadata": {},
   "source": [
    "revenues: 3520018  \n",
    "direct labor: 1375571  \n",
    "overhead: 1982428"
   ]
  },
  {
   "cell_type": "code",
   "execution_count": 7,
   "metadata": {},
   "outputs": [],
   "source": [
    "directlabor = 1375571\n",
    "overhead = 1982428\n",
    "total_expense = directlabor + overhead\n",
    "revenues = 3520018"
   ]
  },
  {
   "cell_type": "code",
   "execution_count": 8,
   "metadata": {},
   "outputs": [
    {
     "data": {
      "text/plain": [
       "162019"
      ]
     },
     "execution_count": 8,
     "metadata": {},
     "output_type": "execute_result"
    }
   ],
   "source": [
    "profit = revenues - total_expense\n",
    "profit"
   ]
  },
  {
   "cell_type": "code",
   "execution_count": 10,
   "metadata": {},
   "outputs": [
    {
     "data": {
      "text/plain": [
       "144.11673406897935"
      ]
     },
     "execution_count": 10,
     "metadata": {},
     "output_type": "execute_result"
    }
   ],
   "source": [
    "burdenrate = overhead / directlabor\n",
    "burdenrate * 100.0"
   ]
  },
  {
   "cell_type": "code",
   "execution_count": 12,
   "metadata": {},
   "outputs": [],
   "source": [
    "# labor breakdown\n",
    "labor_breakdown = {\n",
    "    \"proj_radiographs\": 417073,\n",
    "    \"fluoroscopies\": 414047,\n",
    "    \"cat_scan\": 270850,\n",
    "    \"mri_scan\": 273601\n",
    "}"
   ]
  },
  {
   "cell_type": "code",
   "execution_count": 13,
   "metadata": {},
   "outputs": [
    {
     "data": {
      "text/plain": [
       "1375571"
      ]
     },
     "execution_count": 13,
     "metadata": {},
     "output_type": "execute_result"
    }
   ],
   "source": [
    "sum(labor_breakdown.values())"
   ]
  },
  {
   "cell_type": "code",
   "execution_count": 14,
   "metadata": {},
   "outputs": [
    {
     "data": {
      "text/plain": [
       "True"
      ]
     },
     "execution_count": 14,
     "metadata": {},
     "output_type": "execute_result"
    }
   ],
   "source": [
    "sum(labor_breakdown.values()) == directlabor"
   ]
  },
  {
   "cell_type": "markdown",
   "metadata": {},
   "source": [
    "## Existing Costing"
   ]
  },
  {
   "cell_type": "code",
   "execution_count": 16,
   "metadata": {},
   "outputs": [],
   "source": [
    "perc_labor_breakdown = {}\n",
    "for k,v in labor_breakdown.items():\n",
    "    perc_labor_breakdown[k] = v/directlabor"
   ]
  },
  {
   "cell_type": "code",
   "execution_count": 17,
   "metadata": {},
   "outputs": [
    {
     "data": {
      "text/plain": [
       "{'proj_radiographs': 0.30319990752930964,\n",
       " 'fluoroscopies': 0.30100009377923787,\n",
       " 'cat_scan': 0.1969000509606556,\n",
       " 'mri_scan': 0.1988999477307969}"
      ]
     },
     "execution_count": 17,
     "metadata": {},
     "output_type": "execute_result"
    }
   ],
   "source": [
    "perc_labor_breakdown"
   ]
  },
  {
   "cell_type": "code",
   "execution_count": 21,
   "metadata": {},
   "outputs": [
    {
     "name": "stdout",
     "output_type": "stream",
     "text": [
      "{'cat_scan': 661190.17,\n",
      " 'fluoroscopies': 1010758.01,\n",
      " 'mri_scan': 667905.83,\n",
      " 'proj_radiographs': 1018144.99}\n"
     ]
    }
   ],
   "source": [
    "exist_costing = {}\n",
    "\n",
    "for k, v in perc_labor_breakdown.items():\n",
    "    exist_costing[k] = round(v * overhead + labor_breakdown[k], 2)\n",
    "    \n",
    "pprint(exist_costing)"
   ]
  },
  {
   "cell_type": "code",
   "execution_count": 36,
   "metadata": {},
   "outputs": [
    {
     "data": {
      "text/plain": [
       "3357999.0"
      ]
     },
     "execution_count": 36,
     "metadata": {},
     "output_type": "execute_result"
    }
   ],
   "source": [
    "sum(exist_costing.values())"
   ]
  },
  {
   "cell_type": "code",
   "execution_count": 24,
   "metadata": {},
   "outputs": [
    {
     "data": {
      "text/html": [
       "<div>\n",
       "<style scoped>\n",
       "    .dataframe tbody tr th:only-of-type {\n",
       "        vertical-align: middle;\n",
       "    }\n",
       "\n",
       "    .dataframe tbody tr th {\n",
       "        vertical-align: top;\n",
       "    }\n",
       "\n",
       "    .dataframe thead th {\n",
       "        text-align: right;\n",
       "    }\n",
       "</style>\n",
       "<table border=\"1\" class=\"dataframe\">\n",
       "  <thead>\n",
       "    <tr style=\"text-align: right;\">\n",
       "      <th></th>\n",
       "      <th>proj_radiographs</th>\n",
       "      <th>fluoroscopies</th>\n",
       "      <th>cat_scan</th>\n",
       "      <th>mri_scan</th>\n",
       "    </tr>\n",
       "  </thead>\n",
       "  <tbody>\n",
       "    <tr>\n",
       "      <th>0</th>\n",
       "      <td>1018144.99</td>\n",
       "      <td>1010758.01</td>\n",
       "      <td>661190.17</td>\n",
       "      <td>667905.83</td>\n",
       "    </tr>\n",
       "  </tbody>\n",
       "</table>\n",
       "</div>"
      ],
      "text/plain": [
       "   proj_radiographs  fluoroscopies   cat_scan   mri_scan\n",
       "0        1018144.99     1010758.01  661190.17  667905.83"
      ]
     },
     "execution_count": 24,
     "metadata": {},
     "output_type": "execute_result"
    }
   ],
   "source": [
    "pd.DataFrame(exist_costing, index=[0])"
   ]
  },
  {
   "cell_type": "markdown",
   "metadata": {},
   "source": [
    "## Accountant Proposed Costing"
   ]
  },
  {
   "cell_type": "code",
   "execution_count": 25,
   "metadata": {},
   "outputs": [
    {
     "data": {
      "text/plain": [
       "1982428"
      ]
     },
     "execution_count": 25,
     "metadata": {},
     "output_type": "execute_result"
    }
   ],
   "source": [
    "overhead_breakout = {\n",
    "    \"direct_labor_related\": 721392,\n",
    "    \"equipment_related\": 1261036\n",
    "}\n",
    "\n",
    "sum(overhead_breakout.values())"
   ]
  },
  {
   "cell_type": "code",
   "execution_count": 27,
   "metadata": {},
   "outputs": [
    {
     "data": {
      "text/plain": [
       "6281"
      ]
     },
     "execution_count": 27,
     "metadata": {},
     "output_type": "execute_result"
    }
   ],
   "source": [
    "test_hours = {\n",
    "    \"proj_radiographs\": 1060,\n",
    "    \"fluoroscopies\": 1312,\n",
    "    \"cat_scan\": 1394,\n",
    "    \"mri_scan\": 2515\n",
    "}\n",
    "\n",
    "sum(test_hours.values())"
   ]
  },
  {
   "cell_type": "code",
   "execution_count": 29,
   "metadata": {},
   "outputs": [
    {
     "data": {
      "text/plain": [
       "({'proj_radiographs': 417073,\n",
       "  'fluoroscopies': 414047,\n",
       "  'cat_scan': 270850,\n",
       "  'mri_scan': 273601},\n",
       " {'proj_radiographs': 0.30319990752930964,\n",
       "  'fluoroscopies': 0.30100009377923787,\n",
       "  'cat_scan': 0.1969000509606556,\n",
       "  'mri_scan': 0.1988999477307969})"
      ]
     },
     "execution_count": 29,
     "metadata": {},
     "output_type": "execute_result"
    }
   ],
   "source": [
    "labor_breakdown, perc_labor_breakdown"
   ]
  },
  {
   "cell_type": "code",
   "execution_count": 37,
   "metadata": {},
   "outputs": [
    {
     "data": {
      "text/plain": [
       "{'proj_radiographs': 848615.1252500975,\n",
       " 'fluoroscopies': 894596.2223645358,\n",
       " 'cat_scan': 692765.4194451121,\n",
       " 'mri_scan': 922022.2329402547}"
      ]
     },
     "execution_count": 37,
     "metadata": {},
     "output_type": "execute_result"
    }
   ],
   "source": [
    "act_costing= {}\n",
    "\n",
    "for k,v in perc_labor_breakdown.items():\n",
    "    act_costing[k] = v*overhead_breakout.get(\"direct_labor_related\") + \\\n",
    "        overhead_breakout.get(\"equipment_related\") * test_hours[k]/6281 + \\\n",
    "        labor_breakdown[k]\n",
    "    \n",
    "act_costing"
   ]
  },
  {
   "cell_type": "code",
   "execution_count": 38,
   "metadata": {},
   "outputs": [
    {
     "data": {
      "text/plain": [
       "3357999.0"
      ]
     },
     "execution_count": 38,
     "metadata": {},
     "output_type": "execute_result"
    }
   ],
   "source": [
    "sum(act_costing.values())"
   ]
  },
  {
   "cell_type": "code",
   "execution_count": null,
   "metadata": {},
   "outputs": [],
   "source": []
  },
  {
   "cell_type": "markdown",
   "metadata": {},
   "source": [
    "## Consultant Proposed Costing"
   ]
  },
  {
   "cell_type": "code",
   "execution_count": 47,
   "metadata": {},
   "outputs": [
    {
     "data": {
      "text/plain": [
       "1261036"
      ]
     },
     "execution_count": 47,
     "metadata": {},
     "output_type": "execute_result"
    }
   ],
   "source": [
    "overhead_by_tech = {\n",
    "    \"hightech\": 921793,\n",
    "    \"lowtech\": 339243\n",
    "}\n",
    "\n",
    "sum(overhead_by_tech.values())"
   ]
  },
  {
   "cell_type": "code",
   "execution_count": 48,
   "metadata": {},
   "outputs": [],
   "source": [
    "test_hours_by_tech = {\n",
    "    \"hightech\": {'cat_scan': 819,\n",
    "                 'fluoroscopies': 579,\n",
    "                 'mri_scan': 2515,\n",
    "                 'proj_radiographs': 268\n",
    "                },\n",
    "    \"lowtech\": {'cat_scan': 575,\n",
    "                 'fluoroscopies': 733,\n",
    "                 'mri_scan': 0,\n",
    "                 'proj_radiographs': 792\n",
    "                }\n",
    "}"
   ]
  },
  {
   "cell_type": "code",
   "execution_count": 49,
   "metadata": {},
   "outputs": [
    {
     "data": {
      "text/plain": [
       "4181"
      ]
     },
     "execution_count": 49,
     "metadata": {},
     "output_type": "execute_result"
    }
   ],
   "source": [
    "sum(test_hours_by_tech.get(\"hightech\").values())"
   ]
  },
  {
   "cell_type": "code",
   "execution_count": 50,
   "metadata": {},
   "outputs": [
    {
     "data": {
      "text/plain": [
       "2100"
      ]
     },
     "execution_count": 50,
     "metadata": {},
     "output_type": "execute_result"
    }
   ],
   "source": [
    "sum(test_hours_by_tech.get(\"lowtech\").values())"
   ]
  },
  {
   "cell_type": "code",
   "execution_count": 57,
   "metadata": {},
   "outputs": [],
   "source": [
    "cons_costing = {}\n",
    "\n",
    "for k, v in perc_labor_breakdown.items():\n",
    "    dl = labor_breakdown[k]\n",
    "    \n",
    "    dl_overhead = 721392 * \\\n",
    "        (test_hours_by_tech[\"hightech\"][k] + test_hours_by_tech[\"lowtech\"][k])/(4181 + 2100)\n",
    "    \n",
    "    hightech_cost = overhead_by_tech[\"hightech\"] * \\\n",
    "        test_hours_by_tech[\"hightech\"][k] / 4181\n",
    "    \n",
    "    lowtech_cost = overhead_by_tech[\"lowtech\"] * \\\n",
    "        test_hours_by_tech[\"lowtech\"][k] / 2100\n",
    "    \n",
    "    cons_costing[k] = dl + hightech_cost + lowtech_cost + dl_overhead"
   ]
  },
  {
   "cell_type": "code",
   "execution_count": 58,
   "metadata": {},
   "outputs": [
    {
     "data": {
      "text/plain": [
       "{'proj_radiographs': 725846.7744049525,\n",
       " 'fluoroscopies': 810799.3897310173,\n",
       " 'cat_scan': 704409.5977982256,\n",
       " 'mri_scan': 1116943.2380658044}"
      ]
     },
     "execution_count": 58,
     "metadata": {},
     "output_type": "execute_result"
    }
   ],
   "source": [
    "cons_costing"
   ]
  },
  {
   "cell_type": "code",
   "execution_count": 59,
   "metadata": {},
   "outputs": [
    {
     "data": {
      "text/plain": [
       "3357998.9999999995"
      ]
     },
     "execution_count": 59,
     "metadata": {},
     "output_type": "execute_result"
    }
   ],
   "source": [
    "sum(cons_costing.values())"
   ]
  },
  {
   "cell_type": "markdown",
   "metadata": {},
   "source": [
    "## Comparisons"
   ]
  },
  {
   "cell_type": "code",
   "execution_count": 39,
   "metadata": {},
   "outputs": [],
   "source": [
    "import matplotlib.pyplot as plt\n",
    "import seaborn as sns"
   ]
  },
  {
   "cell_type": "code",
   "execution_count": 60,
   "metadata": {},
   "outputs": [
    {
     "data": {
      "text/plain": [
       "(3357999.0, 3357999.0, 3357998.9999999995)"
      ]
     },
     "execution_count": 60,
     "metadata": {},
     "output_type": "execute_result"
    }
   ],
   "source": [
    "sum(exist_costing.values()), sum(act_costing.values()), sum(cons_costing.values())"
   ]
  },
  {
   "cell_type": "code",
   "execution_count": 76,
   "metadata": {},
   "outputs": [
    {
     "data": {
      "text/plain": [
       "<BarContainer object of 4 artists>"
      ]
     },
     "execution_count": 76,
     "metadata": {},
     "output_type": "execute_result"
    },
    {
     "data": {
      "image/png": "[encoded data removed]",
      "text/plain": [
       "<Figure size 1296x648 with 3 Axes>"
      ]
     },
     "metadata": {
      "needs_background": "light"
     },
     "output_type": "display_data"
    }
   ],
   "source": [
    "f, axs = plt.subplots(1, 3, figsize=(18,9), sharey=True)\n",
    "axs[0].bar([k for k in exist_costing], [v for v in exist_costing.values()])\n",
    "axs[1].bar([k for k in act_costing], [v for v in act_costing.values()])\n",
    "axs[2].bar([k for k in cons_costing], [v for v in cons_costing.values()])"
   ]
  },
  {
   "cell_type": "code",
   "execution_count": null,
   "metadata": {},
   "outputs": [],
   "source": []
  }
 ],
 "metadata": {
  "kernelspec": {
   "display_name": "Python 3",
   "language": "python",
   "name": "python3"
  },
  "language_info": {
   "codemirror_mode": {
    "name": "ipython",
    "version": 3
   },
   "file_extension": ".py",
   "mimetype": "text/x-python",
   "name": "python",
   "nbconvert_exporter": "python",
   "pygments_lexer": "ipython3",
   "version": "3.7.3"
  }
 },
 "nbformat": 4,
 "nbformat_minor": 2
}
